{
 "cells": [
  {
   "cell_type": "code",
   "execution_count": 74,
   "id": "db1a37ed",
   "metadata": {},
   "outputs": [],
   "source": [
    "import numpy as np\n",
    "import nltk\n",
    "import string\n",
    "import random\n",
    "import nltk\n",
    "import ssl\n"
   ]
  },
  {
   "cell_type": "code",
   "execution_count": null,
   "id": "784d632b",
   "metadata": {},
   "outputs": [],
   "source": [
    "\n",
    "f= open('chatbot.txt', 'r', errors= \"ignore\")\n",
    "raw_doc= f.read()\n",
    "raw_doc = raw_doc.lower()\n",
    "nltk.download('punkt')\n",
    "#nltk.download('wordnet')\n",
    "sent_tokens = nltk.sent_tokenize(raw_doc)\n",
    "word_tokens = nltk.word_tokenize(raw_doc)"
   ]
  },
  {
   "cell_type": "code",
   "execution_count": null,
   "id": "b7d6c047",
   "metadata": {},
   "outputs": [],
   "source": [
    "lemmer = nltk.stem.WordNetLemmatizer()\n",
    "#WordNet is a semantically-oriented dictionary of English included in NLTK.\n",
    "def LemTokens(tokens):\n",
    "    return [lemmer.lemmatize(token) for token in tokens]\n",
    "remove_punct_dict = dict((ord(punct), None) for punct in string.punctuation) \n",
    "def LemNormalize(text):\n",
    "    return LemTokens(nltk.word_tokenize(text.lower().translate(remove_punct_dict)))\n"
   ]
  },
  {
   "cell_type": "code",
   "execution_count": 77,
   "id": "1105b6d8",
   "metadata": {},
   "outputs": [],
   "source": [
    "GREET_INPUTS = (\"hello\",'hi','whatsup','greetings','yo')\n",
    "\n",
    "GREET_RESPONSES = [\"hi\",\"hey\",'*nods*','hi there']\n",
    "                   \n",
    "def greet(sentence):\n",
    "                   for word in sentence.split():\n",
    "                       if word.lower() in GREET_INPUTS:\n",
    "                          return random.choice(GREET_RESPONSES)"
   ]
  },
  {
   "cell_type": "code",
   "execution_count": 78,
   "id": "c40c672c",
   "metadata": {},
   "outputs": [],
   "source": [
    "from sklearn.feature_extraction.text import TfidfVectorizer\n",
    "from sklearn.metrics.pairwise import cosine_similarity"
   ]
  },
  {
   "cell_type": "code",
   "execution_count": 123,
   "id": "40b474ec",
   "metadata": {},
   "outputs": [],
   "source": [
    "def response(user_response):\n",
    "    #print(\"hello\")\n",
    "    robo1_response=''\n",
    "    Tfidfvec = TfidfVectorizer(tokenizer=LemNormalize, stop_words='english') \n",
    "    tfidf = Tfidfvec.fit_transform(sent_tokens)\n",
    "    vals = cosine_similarity(tfidf[-1], tfidf)\n",
    "    idx = vals.argsort()[0][-2]\n",
    "    flat = vals.flatten()\n",
    "    flat.sort()\n",
    "    req_tfidf = flat[-2] \n",
    "    \n",
    "    \n",
    "    if(req_tfidf==0):\n",
    "        robo1_response=robo1_response+\"I am sorry! I don't understand you\" \n",
    "        return robo1_response\n",
    "    else:\n",
    "        #print(idx)\n",
    "        print(sent_tokens[idx])\n",
    "        #robol_response = robo1_response+sent_tokens[idx]\n",
    "        #return robo1_response"
   ]
  },
  {
   "cell_type": "code",
   "execution_count": 124,
   "id": "9eca0947",
   "metadata": {},
   "outputs": [
    {
     "name": "stdout",
     "output_type": "stream",
     "text": [
      "BOT: hi, my name is stark, a chatbot!\n",
      "hello\n",
      "BOT:hi\n",
      "data science\n",
      "BOT: ^ \"about data science\".\n",
      "foundations\n",
      "BOT: [7]\n",
      "\n",
      "\n",
      "contents\n",
      "1\tfoundations\n",
      "1.1\trelationship to statistics\n",
      "2\tetymology\n",
      "2.1\tearly usage\n",
      "2.2\tmodern usage\n",
      "3\tsee also\n",
      "4\treferences\n",
      "foundations[edit]\n",
      "data science is an interdisciplinary field[8] focused on extracting knowledge from typically large data sets and applying the knowledge and insights from that data to solve problems in a wide range of application domains.\n",
      "sexiest\n",
      "BOT: \"data scientist: the sexiest job of the 21st century\".\n",
      "hrefbhuer\n",
      "BOT: bye\n",
      "BOT: Goodbye! Take care <3 *\n"
     ]
    }
   ],
   "source": [
    "flag = True\n",
    "print(\"BOT: hi, my name is stark, a chatbot!\")\n",
    "while (flag==True):\n",
    "    user_response = input()\n",
    "    user_response=user_response.lower()\n",
    "    if(user_response!=\"bye\"):\n",
    "           if(user_response=='thanks' or user_response=='thank you'):\n",
    "              flag=False\n",
    "              print(\"BOT: You are welcome..\")\n",
    "           else:\n",
    "                  if(greet(user_response)!=None):\n",
    "                    print(\"BOT:\"+greet(user_response))\n",
    "                  else:\n",
    "                    #print(sent_tokens)\n",
    "                    sent_tokens.append(user_response)\n",
    "                    word_tokens=word_tokens+nltk.word_tokenize(user_response)\n",
    "                    final_words=list(set(word_tokens))\n",
    "                    #print(final_words)\n",
    "                    #print()\n",
    "                    print(\"BOT:\",end = \" \")\n",
    "                    response(user_response)\n",
    "                    sent_tokens.remove(user_response)\n",
    "    else:\n",
    "        flag=False\n",
    "        print(\"BOT: Goodbye! Take care <3 *\")"
   ]
  },
  {
   "cell_type": "code",
   "execution_count": null,
   "id": "95671934",
   "metadata": {},
   "outputs": [],
   "source": []
  }
 ],
 "metadata": {
  "kernelspec": {
   "display_name": "Python 3 (ipykernel)",
   "language": "python",
   "name": "python3"
  },
  "language_info": {
   "codemirror_mode": {
    "name": "ipython",
    "version": 3
   },
   "file_extension": ".py",
   "mimetype": "text/x-python",
   "name": "python",
   "nbconvert_exporter": "python",
   "pygments_lexer": "ipython3",
   "version": "3.11.1"
  }
 },
 "nbformat": 4,
 "nbformat_minor": 5
}
